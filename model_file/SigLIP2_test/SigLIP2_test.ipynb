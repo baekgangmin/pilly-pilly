{
 "cells": [
  {
   "cell_type": "markdown",
   "id": "80755102",
   "metadata": {},
   "source": [
    "## (A) 기존 SigLIP2 모델 사용"
   ]
  },
  {
   "cell_type": "code",
   "execution_count": 2,
   "id": "5f920807",
   "metadata": {},
   "outputs": [
    {
     "name": "stderr",
     "output_type": "stream",
     "text": [
      "Using a slow image processor as `use_fast` is unset and a slow processor was saved with this model. `use_fast=True` will be the default behavior in v4.52, even if the model was saved with a slow processor. This will result in minor differences in outputs. You'll still be able to use a slow processor with `use_fast=False`.\n",
      "Device set to use cpu\n"
     ]
    },
    {
     "name": "stdout",
     "output_type": "stream",
     "text": [
      "🔍 예측 결과:\n",
      "1. Label: 흰색의 분말이 들어있는 상부 초록색, 하부 미황색의 경질캡슐제, 앞면 '마크 ELT', 뒷면 '' 라고 적혀 있음\n",
      "   Score: 0.2955\n",
      "2. Label: 미황색의 원형 정제, 앞면 'YH', 뒷면 ''라고 적혀 있음\n",
      "   Score: 0.0056\n",
      "3. Label: 백색의 원형 정제, 앞면 'YH', 뒷면 ''라고 적혀 있음\n",
      "   Score: 0.0008\n",
      "4. Label: 백색의 원형필름제피정, 앞면 'SJΛ', 뒷면 ''라고 적혀 있음\n",
      "   Score: 0.0008\n",
      "5. Label: 흰색 또는 거의 흰색의 원형 정제, 앞면 '마크분할선ST', 뒷면 ''라고 적혀 있음\n",
      "   Score: 0.0005\n",
      "6. Label: 장방형 백색 정제, 앞면 'LDI분할선LDI', 뒷면 '분할선'라고 적혀 있음\n",
      "   Score: 0.0003\n"
     ]
    }
   ],
   "source": [
    "from transformers import pipeline\n",
    "\n",
    "pipe = pipeline(\n",
    "    model=\"google/siglip2-large-patch16-256\",\n",
    "    task=\"zero-shot-image-classification\",\n",
    "    device=-1\n",
    ")\n",
    "\n",
    "# 후보 라벨 목록 (텍스트로 된 클래스 이름들)\n",
    "labels = [\"흰색의 분말이 들어있는 상부 초록색, 하부 미황색의 경질캡슐제, 앞면 '마크 ELT', 뒷면 '' 라고 적혀 있음\", \n",
    "          \"백색의 원형필름제피정, 앞면 'SJΛ', 뒷면 ''라고 적혀 있음\",\n",
    "          \"미황색의 원형 정제, 앞면 'YH', 뒷면 ''라고 적혀 있음\",\n",
    "          \"백색의 원형 정제, 앞면 'YH', 뒷면 ''라고 적혀 있음\",\n",
    "          \"흰색 또는 거의 흰색의 원형 정제, 앞면 '마크분할선ST', 뒷면 ''라고 적혀 있음\",\n",
    "          \"장방형 백색 정제, 앞면 'LDI분할선LDI', 뒷면 '분할선'라고 적혀 있음\"]  # 총 4000개 가능\n",
    "\n",
    "# 알약 이미지에 대해 예측\n",
    "result = pipe(r\"C:\\Users\\302-09\\Desktop\\깡통\\my알약\\KakaoTalk_20250612_144853880_02.jpg\", candidate_labels=labels)\n",
    "print(\"🔍 예측 결과:\")\n",
    "for i, res in enumerate(result, 1):\n",
    "    print(f\"{i}. Label: {res['label']}\")\n",
    "    print(f\"   Score: {res['score']:.4f}\")\n"
   ]
  },
  {
   "cell_type": "markdown",
   "id": "d797cede",
   "metadata": {},
   "source": [
    "## (B) 기존 SigLIP2 모델에 알약을 학습\n",
    "\n",
    "X"
   ]
  },
  {
   "cell_type": "markdown",
   "id": "ef334a40",
   "metadata": {},
   "source": [
    "## (C) 기존 SigLIP2 모델 + 임베딩, 코사인 유사도"
   ]
  },
  {
   "cell_type": "code",
   "execution_count": 1,
   "id": "1dd1a989",
   "metadata": {},
   "outputs": [
    {
     "name": "stderr",
     "output_type": "stream",
     "text": [
      "Using a slow image processor as `use_fast` is unset and a slow processor was saved with this model. `use_fast=True` will be the default behavior in v4.52, even if the model was saved with a slow processor. This will result in minor differences in outputs. You'll still be able to use a slow processor with `use_fast=False`.\n",
      "Asking to truncate to max_length but no maximum length is provided and the model has no predefined maximum length. Default to no truncation.\n"
     ]
    },
    {
     "name": "stdout",
     "output_type": "stream",
     "text": [
      "🔍 예측 결과 (Top-3)\n",
      "- 백색의 원형 정제, 앞면 'YH', 뒷면 ''라고 적혀 있음 (score: 0.0886)\n",
      "- 흰색 또는 거의 흰색의 원형 정제, 앞면 '마크분할선ST', 뒷면 ''라고 적혀 있음 (score: 0.0792)\n",
      "- 미황색의 원형 정제, 앞면 'YH', 뒷면 ''라고 적혀 있음 (score: 0.0698)\n"
     ]
    }
   ],
   "source": [
    "from transformers import AutoProcessor, AutoModel\n",
    "import torch\n",
    "from PIL import Image\n",
    "\n",
    "# 모델 준비 (사전 학습된 SigLIP2)\n",
    "model_name = \"google/siglip2-large-patch16-256\"\n",
    "processor = AutoProcessor.from_pretrained(model_name)\n",
    "model = AutoModel.from_pretrained(model_name)\n",
    "model.eval()\n",
    "\n",
    "# 이미지 임베딩 추출 함수\n",
    "def get_image_embedding(image_path):\n",
    "    image = Image.open(image_path).convert(\"RGB\")\n",
    "    inputs = processor(images=image, return_tensors=\"pt\")\n",
    "    with torch.no_grad():\n",
    "        img_embed = model.get_image_features(**inputs)\n",
    "    return img_embed / img_embed.norm(dim=-1, keepdim=True)\n",
    "\n",
    "# 텍스트 임베딩 추출 함수\n",
    "def get_text_embeddings(text_list):\n",
    "    inputs = processor(text=text_list, return_tensors=\"pt\", padding=True, truncation=True)\n",
    "    with torch.no_grad():\n",
    "        text_embeds = model.get_text_features(**inputs)\n",
    "    return text_embeds / text_embeds.norm(dim=-1, keepdim=True)\n",
    "\n",
    "# 🔹 후보 텍스트 설명들 (예: seq 기반 설명들)\n",
    "text_labels = [\"흰색의 분말이 들어있는 상부 초록색, 하부 미황색의 경질캡슐제, 앞면 '마크 ELT', 뒷면 '' 라고 적혀 있음\", \n",
    "          \"백색의 원형필름제피정, 앞면 'SJΛ', 뒷면 ''라고 적혀 있음\",\n",
    "          \"미황색의 원형 정제, 앞면 'YH', 뒷면 ''라고 적혀 있음\",\n",
    "          \"백색의 원형 정제, 앞면 'YH', 뒷면 ''라고 적혀 있음\",\n",
    "          \"흰색 또는 거의 흰색의 원형 정제, 앞면 '마크분할선ST', 뒷면 ''라고 적혀 있음\",\n",
    "          \"장방형 백색 정제, 앞면 'LDI분할선LDI', 뒷면 '분할선'라고 적혀 있음\"\n",
    "          ]\n",
    "\n",
    "# 텍스트 임베딩 (1회만)\n",
    "text_embeds = get_text_embeddings(text_labels)\n",
    "\n",
    "# 🔹 예측할 이미지\n",
    "img_path = r\"C:\\Users\\302-09\\Desktop\\깡통\\my알약\\KakaoTalk_20250612_144853880_02.jpg\"\n",
    "img_embed = get_image_embedding(img_path)\n",
    "\n",
    "# 🔍 유사도 계산\n",
    "similarities = (img_embed @ text_embeds.T).squeeze(0)\n",
    "top_k = torch.topk(similarities, k=3)\n",
    "\n",
    "# 결과 출력\n",
    "print(\"🔍 예측 결과 (Top-3)\")\n",
    "for idx, score in zip(top_k.indices, top_k.values):\n",
    "    print(f\"- {text_labels[idx]} (score: {score:.4f})\")\n"
   ]
  }
 ],
 "metadata": {
  "kernelspec": {
   "display_name": "tensorflow_env",
   "language": "python",
   "name": "python3"
  },
  "language_info": {
   "codemirror_mode": {
    "name": "ipython",
    "version": 3
   },
   "file_extension": ".py",
   "mimetype": "text/x-python",
   "name": "python",
   "nbconvert_exporter": "python",
   "pygments_lexer": "ipython3",
   "version": "3.11.11"
  }
 },
 "nbformat": 4,
 "nbformat_minor": 5
}
